{
 "cells": [
  {
   "cell_type": "code",
   "execution_count": 1,
   "metadata": {},
   "outputs": [],
   "source": [
    "import numpy as np"
   ]
  },
  {
   "cell_type": "code",
   "execution_count": 4,
   "metadata": {},
   "outputs": [],
   "source": [
    "d = np.matrix([[7, 9, 3, 8], [0, 2, 4, 8], [3, 9, 0, 5],[2, 2, 7, 3]])\n",
    "v = np.array([1, 2, 3, 4])"
   ]
  },
  {
   "cell_type": "code",
   "execution_count": 6,
   "metadata": {},
   "outputs": [
    {
     "name": "stdout",
     "output_type": "stream",
     "text": [
      "[[7 9 3 8]\n",
      " [0 2 4 8]\n",
      " [3 9 0 5]\n",
      " [2 2 7 3]]\n",
      "[1 2 3 4]\n"
     ]
    }
   ],
   "source": [
    "print(d)\n",
    "print(v)"
   ]
  },
  {
   "cell_type": "code",
   "execution_count": 7,
   "metadata": {},
   "outputs": [
    {
     "name": "stdout",
     "output_type": "stream",
     "text": [
      "[[ 74 124 113 167]\n",
      " [ 28  56  64  60]\n",
      " [ 31  55  80 111]\n",
      " [ 41  91  35  76]]\n",
      "[[14 18  6 16]\n",
      " [ 0  4  8 16]\n",
      " [ 6 18  0 10]\n",
      " [ 4  4 14  6]]\n",
      "[[0 0 0 0]\n",
      " [0 0 0 0]\n",
      " [0 0 0 0]\n",
      " [0 0 0 0]]\n"
     ]
    }
   ],
   "source": [
    "print(d * d)\n",
    "print(d + d)\n",
    "print(d - d)"
   ]
  },
  {
   "cell_type": "code",
   "execution_count": 13,
   "metadata": {},
   "outputs": [
    {
     "name": "stdout",
     "output_type": "stream",
     "text": [
      "[[24 48 39 51]]\n",
      "[[66]\n",
      " [48]\n",
      " [41]\n",
      " [39]]\n"
     ]
    }
   ],
   "source": [
    "print(v * d)\n",
    "vv = v[:, np.newaxis]\n",
    "print(d * vv)"
   ]
  },
  {
   "cell_type": "code",
   "execution_count": null,
   "metadata": {},
   "outputs": [],
   "source": []
  }
 ],
 "metadata": {
  "kernelspec": {
   "display_name": "Python 3",
   "language": "python",
   "name": "python3"
  },
  "language_info": {
   "codemirror_mode": {
    "name": "ipython",
    "version": 3
   },
   "file_extension": ".py",
   "mimetype": "text/x-python",
   "name": "python",
   "nbconvert_exporter": "python",
   "pygments_lexer": "ipython3",
   "version": "3.6.5"
  }
 },
 "nbformat": 4,
 "nbformat_minor": 2
}
